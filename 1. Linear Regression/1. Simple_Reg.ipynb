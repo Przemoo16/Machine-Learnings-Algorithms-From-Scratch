{
 "cells": [
  {
   "cell_type": "markdown",
   "metadata": {},
   "source": [
    "# Simple Regression - Manual"
   ]
  },
  {
   "cell_type": "code",
   "execution_count": 1,
   "metadata": {},
   "outputs": [],
   "source": [
    "import numpy as np\n",
    "import matplotlib.pyplot as plt\n",
    "%matplotlib inline\n",
    "\n",
    "from sklearn.model_selection import train_test_split"
   ]
  },
  {
   "cell_type": "code",
   "execution_count": 2,
   "metadata": {},
   "outputs": [],
   "source": [
    "# Seed\n",
    "np.random.seed(101)"
   ]
  },
  {
   "cell_type": "code",
   "execution_count": 3,
   "metadata": {},
   "outputs": [],
   "source": [
    "# Create x data\n",
    "x = np.linspace(0.0, 10.0, 300)"
   ]
  },
  {
   "cell_type": "code",
   "execution_count": 4,
   "metadata": {},
   "outputs": [],
   "source": [
    "# Noise for y data\n",
    "noise = np.random.randn(len(x))"
   ]
  },
  {
   "cell_type": "markdown",
   "metadata": {},
   "source": [
    "## Linear regerssion formula\n",
    "\\begin{equation*}\n",
    "\\Large\n",
    "y = Wx + b\n",
    "\\end{equation*}\n",
    "\n",
    "\\begin{equation*}\n",
    "W = 0.5\n",
    "\\end{equation*}\n",
    "\n",
    "\\begin{equation*}\n",
    "b = 5\n",
    "\\end{equation*}"
   ]
  },
  {
   "cell_type": "code",
   "execution_count": 5,
   "metadata": {},
   "outputs": [],
   "source": [
    "# Create y data\n",
    "y_true = 0.5 * x + 5 + noise"
   ]
  },
  {
   "cell_type": "code",
   "execution_count": 6,
   "metadata": {},
   "outputs": [],
   "source": [
    "# Split data for training and testing\n",
    "X_train, X_test, y_train, y_test = train_test_split(x, y_true, test_size=0.3, random_state=101)"
   ]
  },
  {
   "cell_type": "code",
   "execution_count": 7,
   "metadata": {},
   "outputs": [
    {
     "data": {
      "text/plain": [
       "Text(0, 0.5, 'y')"
      ]
     },
     "execution_count": 7,
     "metadata": {},
     "output_type": "execute_result"
    },
    {
     "data": {
      "image/png": "[encoded data removed]",
      "text/plain": [
       "<Figure size 432x288 with 1 Axes>"
      ]
     },
     "metadata": {
      "needs_background": "light"
     },
     "output_type": "display_data"
    }
   ],
   "source": [
    "# Plot training data\n",
    "plt.scatter(X_train,y_train)\n",
    "# Title\n",
    "plt.title('Training Data')\n",
    "# Labels names\n",
    "plt.xlabel('x')\n",
    "plt.ylabel('y')"
   ]
  },
  {
   "cell_type": "markdown",
   "metadata": {},
   "source": [
    "## Sum of Square Error Equation"
   ]
  },
  {
   "cell_type": "markdown",
   "metadata": {},
   "source": [
    "\\begin{equation*}\n",
    "\\Large\n",
    "Error_{(W,b)} = \\frac{1}{N}\\sum_{i=1}^N(y_i - (Wx_i + b))^2\n",
    "\\end{equation*}"
   ]
  },
  {
   "cell_type": "code",
   "execution_count": 8,
   "metadata": {},
   "outputs": [],
   "source": [
    "# Function to compute MSE error\n",
    "def mse_error(labels, predictions):\n",
    "    \"\"\"\n",
    "        labels: y_true\n",
    "        predictions: y_hat\n",
    "    \"\"\"\n",
    "    error = 0\n",
    "    for label, pred in zip(labels, predictions):\n",
    "        error += (label - pred) ** 2\n",
    "    return error / float(len(labels))\n",
    "\n",
    "    # It can also be done in matrix form\n",
    "    # return (np.sum((labels-predictions)**2))/len(labels)"
   ]
  },
  {
   "cell_type": "markdown",
   "metadata": {},
   "source": [
    "## Gradient"
   ]
  },
  {
   "cell_type": "markdown",
   "metadata": {},
   "source": [
    "\\begin{equation*}\n",
    "\\Large\n",
    "\\frac{\\partial E}{\\partial W}=\\frac{2}{N}\\sum_{i=1}^N-x_i(y_i - (Wx_i + b))\n",
    "\\end{equation*}\n",
    "\n",
    "\\begin{equation*}\n",
    "\\Large\n",
    "\\frac{\\partial E}{\\partial b}=\\frac{2}{N}\\sum_{i=1}^N-(y_i - (Wx_i + b))\n",
    "\\end{equation*}"
   ]
  },
  {
   "cell_type": "code",
   "execution_count": 9,
   "metadata": {},
   "outputs": [],
   "source": [
    "# Function to compute gradient\n",
    "def gradient(features, labels, predictions):\n",
    "    \"\"\"\n",
    "        features: x\n",
    "        labels: y_true\n",
    "        predictions: y_hat\n",
    "    \"\"\"\n",
    "    w_gradient = 0\n",
    "    b_gradient = 0\n",
    "    N = len(features)\n",
    "    for feat, label, pred in zip(features, labels, predictions):\n",
    "        w_gradient += -(2/N) * feat * (label - pred)\n",
    "        b_gradient += -(2/N) * (label - pred)\n",
    "    return w_gradient, b_gradient\n",
    "\n",
    "    # It can also be done in matrix form\n",
    "    #     w_gradient = -np.sum(np.dot(features, (labels - predictions)))*(2/len(labels))\n",
    "    #     b_gradient = -np.sum(labels - predictions)*(2/len(labels))\n",
    "    #     return w_gradient, b_gradient"
   ]
  },
  {
   "cell_type": "code",
   "execution_count": 10,
   "metadata": {},
   "outputs": [],
   "source": [
    "# Randomly initialize W and b\n",
    "W = np.random.randn()\n",
    "b = np.random.randn()"
   ]
  },
  {
   "cell_type": "code",
   "execution_count": null,
   "metadata": {
    "scrolled": true
   },
   "outputs": [],
   "source": [
    "# Learning rate\n",
    "learning_rate = 0.0001\n",
    "# Epochs\n",
    "epochs = 100000\n",
    "\n",
    "# Training loop\n",
    "for epoch in range(epochs):\n",
    "    # Predictions for training data\n",
    "    y_hat_train = W*X_train + b\n",
    "    # Error\n",
    "    error = mse_error(y_train, y_hat_train)\n",
    "    # Gradient\n",
    "    new_w, new_b = gradient(X_train, y_train, y_hat_train)\n",
    "    # Update W\n",
    "    W = W - learning_rate * new_w\n",
    "    # Update b\n",
    "    b = b - learning_rate * new_b\n",
    "    # Print training progress every 1000 epochs\n",
    "    if epoch % 1000 == 0:\n",
    "        print('Epoch: {}, Error: {}'.format(epoch, error))"
   ]
  },
  {
   "cell_type": "code",
   "execution_count": 12,
   "metadata": {},
   "outputs": [
    {
     "data": {
      "text/plain": [
       "Text(0, 0.5, 'y')"
      ]
     },
     "execution_count": 12,
     "metadata": {},
     "output_type": "execute_result"
    },
    {
     "data": {
      "image/png": "[encoded data removed]",
      "text/plain": [
       "<Figure size 432x288 with 1 Axes>"
      ]
     },
     "metadata": {
      "needs_background": "light"
     },
     "output_type": "display_data"
    }
   ],
   "source": [
    "# Predictions for test data\n",
    "y_hat_test = W*X_test + b\n",
    "# Plot test data\n",
    "plt.scatter(X_test, y_test)\n",
    "# Plot line fitted to test data\n",
    "plt.plot(X_test, y_hat_test, 'r')\n",
    "# Title\n",
    "plt.title('Fitted Line')\n",
    "# Labels names\n",
    "plt.xlabel('x')\n",
    "plt.ylabel('y')"
   ]
  },
  {
   "cell_type": "markdown",
   "metadata": {},
   "source": [
    "# Simple Regression - Sklearn"
   ]
  },
  {
   "cell_type": "code",
   "execution_count": 13,
   "metadata": {},
   "outputs": [],
   "source": [
    "from sklearn.linear_model import LinearRegression"
   ]
  },
  {
   "cell_type": "code",
   "execution_count": 14,
   "metadata": {},
   "outputs": [
    {
     "data": {
      "text/plain": [
       "LinearRegression(copy_X=True, fit_intercept=True, n_jobs=None,\n",
       "         normalize=False)"
      ]
     },
     "execution_count": 14,
     "metadata": {},
     "output_type": "execute_result"
    }
   ],
   "source": [
    "# Create Linear Regression model\n",
    "lr = LinearRegression()\n",
    "# Train model (X_train has to be 2 dimension)\n",
    "lr.fit(X_train.reshape(-1,1), y_train)"
   ]
  },
  {
   "cell_type": "code",
   "execution_count": 15,
   "metadata": {},
   "outputs": [],
   "source": [
    "# Predictions\n",
    "preds = lr.predict(X_test.reshape(-1,1))"
   ]
  },
  {
   "cell_type": "code",
   "execution_count": 16,
   "metadata": {},
   "outputs": [
    {
     "data": {
      "text/plain": [
       "Text(0, 0.5, 'y')"
      ]
     },
     "execution_count": 16,
     "metadata": {},
     "output_type": "execute_result"
    },
    {
     "data": {
      "image/png": "[encoded data removed]",
      "text/plain": [
       "<Figure size 432x288 with 1 Axes>"
      ]
     },
     "metadata": {
      "needs_background": "light"
     },
     "output_type": "display_data"
    }
   ],
   "source": [
    "# Plot test data\n",
    "plt.scatter(X_test, y_test)\n",
    "# Plot line fitted to test data\n",
    "plt.plot(X_test, preds, 'r')\n",
    "# Title\n",
    "plt.title('Fitted Line')\n",
    "# Labels names\n",
    "plt.xlabel('x')\n",
    "plt.ylabel('y')"
   ]
  },
  {
   "cell_type": "code",
   "execution_count": null,
   "metadata": {},
   "outputs": [],
   "source": []
  }
 ],
 "metadata": {
  "kernelspec": {
   "display_name": "Python 3",
   "language": "python",
   "name": "python3"
  },
  "language_info": {
   "codemirror_mode": {
    "name": "ipython",
    "version": 3
   },
   "file_extension": ".py",
   "mimetype": "text/x-python",
   "name": "python",
   "nbconvert_exporter": "python",
   "pygments_lexer": "ipython3",
   "version": "3.6.7"
  }
 },
 "nbformat": 4,
 "nbformat_minor": 2
}

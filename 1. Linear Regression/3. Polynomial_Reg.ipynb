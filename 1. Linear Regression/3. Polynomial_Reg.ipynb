{
 "cells": [
  {
   "cell_type": "markdown",
   "metadata": {},
   "source": [
    "# Polynomial Reression - Manual"
   ]
  },
  {
   "cell_type": "code",
   "execution_count": 1,
   "metadata": {},
   "outputs": [],
   "source": [
    "import numpy as np\n",
    "import matplotlib.pyplot as plt\n",
    "%matplotlib inline\n",
    "\n",
    "from sklearn.model_selection import train_test_split"
   ]
  },
  {
   "cell_type": "code",
   "execution_count": 2,
   "metadata": {},
   "outputs": [],
   "source": [
    "# Seed\n",
    "np.random.seed(101)"
   ]
  },
  {
   "cell_type": "code",
   "execution_count": 3,
   "metadata": {},
   "outputs": [],
   "source": [
    "# Create x data\n",
    "x = np.linspace(-10.0, 10.0, 200)"
   ]
  },
  {
   "cell_type": "code",
   "execution_count": 4,
   "metadata": {},
   "outputs": [],
   "source": [
    "# Noise for y data\n",
    "noise = 15 * np.random.randn(len(x))"
   ]
  },
  {
   "cell_type": "markdown",
   "metadata": {},
   "source": [
    "## Polynomial regerssion formula\n",
    "\\begin{equation*}\n",
    "\\Large\n",
    "y = W_1x + W_2x^2 + b\n",
    "\\end{equation*}\n",
    "\n",
    "\\begin{equation*}\n",
    "W_1 = 0.5\n",
    "\\end{equation*}\n",
    "\n",
    "\\begin{equation*}\n",
    "W_2 = -2\n",
    "\\end{equation*}\n",
    "\n",
    "\\begin{equation*}\n",
    "b = 0\n",
    "\\end{equation*}"
   ]
  },
  {
   "cell_type": "code",
   "execution_count": 5,
   "metadata": {},
   "outputs": [],
   "source": [
    "# Create y data\n",
    "y_true = 0.5 * x - 2 * (x ** 2) + noise"
   ]
  },
  {
   "cell_type": "code",
   "execution_count": 6,
   "metadata": {},
   "outputs": [],
   "source": [
    "# Split data for training and testing (Not shuffle)\n",
    "X_train, X_test, y_train, y_test = train_test_split(x, y_true, test_size=0.4, random_state=101, shuffle=False)"
   ]
  },
  {
   "cell_type": "code",
   "execution_count": 7,
   "metadata": {},
   "outputs": [
    {
     "data": {
      "text/plain": [
       "Text(0, 0.5, 'y')"
      ]
     },
     "execution_count": 7,
     "metadata": {},
     "output_type": "execute_result"
    },
    {
     "data": {
      "image/png": "[encoded data removed]",
      "text/plain": [
       "<Figure size 432x288 with 1 Axes>"
      ]
     },
     "metadata": {
      "needs_background": "light"
     },
     "output_type": "display_data"
    }
   ],
   "source": [
    "# Plot training data\n",
    "plt.scatter(X_train,y_train)\n",
    "# Title\n",
    "plt.title('Training data')\n",
    "# Labels names\n",
    "plt.xlabel('x')\n",
    "plt.ylabel('y')"
   ]
  },
  {
   "cell_type": "markdown",
   "metadata": {},
   "source": [
    "## Sum of Square Error Equation"
   ]
  },
  {
   "cell_type": "markdown",
   "metadata": {},
   "source": [
    "\\begin{equation*}\n",
    "\\Large\n",
    "Error_{(W_1, W_2,b)} = \\frac{1}{N}\\sum_{i=1}^N(y_i - (W_1x_i + W_2x_i^2 + b))^2\n",
    "\\end{equation*}"
   ]
  },
  {
   "cell_type": "code",
   "execution_count": 8,
   "metadata": {},
   "outputs": [],
   "source": [
    "# Function to compute MSE error\n",
    "def mse_error(labels, predictions):\n",
    "    \"\"\"\n",
    "        labels: y_true\n",
    "        predictions: y_hat\n",
    "    \"\"\"\n",
    "    return (np.sum((labels-predictions)**2))/len(labels)"
   ]
  },
  {
   "cell_type": "markdown",
   "metadata": {},
   "source": [
    "## Gradient"
   ]
  },
  {
   "cell_type": "markdown",
   "metadata": {},
   "source": [
    "\\begin{equation*}\n",
    "\\Large\n",
    "\\frac{\\partial E}{\\partial W_1}=\\frac{2}{N}\\sum_{i=1}^N-x_i(y_i - (W_1x_i + W_2x_i^2 + b))\n",
    "\\end{equation*}\n",
    "\n",
    "\\begin{equation*}\n",
    "\\Large\n",
    "\\frac{\\partial E}{\\partial W_2}=\\frac{2}{N}\\sum_{i=1}^N-x_i^2(y_i - (W_1x_i + W_2x_i^2 + b))\n",
    "\\end{equation*}\n",
    "\n",
    "\\begin{equation*}\n",
    "\\Large\n",
    "\\frac{\\partial E}{\\partial b}=\\frac{2}{N}\\sum_{i=1}^N-(y_i - (W_1x_i + W_2x_i^2 + b))\n",
    "\\end{equation*}"
   ]
  },
  {
   "cell_type": "code",
   "execution_count": 9,
   "metadata": {},
   "outputs": [],
   "source": [
    "# Function to compute gradient\n",
    "def gradient(features, labels, predictions):\n",
    "    \"\"\"\n",
    "        features: x\n",
    "        labels: y_true\n",
    "        predictions: y_hat\n",
    "    \"\"\"\n",
    "    w1_gradient = -np.sum(np.dot(features, (labels - predictions)))*(2/len(labels))\n",
    "    w2_gradient = -np.sum(np.dot(features**2, (labels - predictions)))*(2/len(labels))\n",
    "    b_gradient = -np.sum(labels - predictions)*(2/len(labels))\n",
    "    return w1_gradient, w2_gradient, b_gradient"
   ]
  },
  {
   "cell_type": "code",
   "execution_count": 10,
   "metadata": {},
   "outputs": [],
   "source": [
    "# Randomly initialize W1, W2 and b\n",
    "W1 = np.random.randn()\n",
    "W2 = np.random.randn()\n",
    "b = np.random.randn()"
   ]
  },
  {
   "cell_type": "code",
   "execution_count": null,
   "metadata": {
    "scrolled": true
   },
   "outputs": [],
   "source": [
    "# Learning rate\n",
    "learning_rate = 0.0001\n",
    "# Epochs\n",
    "epochs = 100000\n",
    "\n",
    "# Training loop\n",
    "for epoch in range(epochs):\n",
    "    # Predictions for training data\n",
    "    y_hat_train = W1*X_train + W2*(X_train**2) + b\n",
    "    # Error\n",
    "    error = mse_error(y_train, y_hat_train)\n",
    "    # Gradient\n",
    "    new_w1, new_w2, new_b = gradient(X_train, y_train, y_hat_train)\n",
    "    # Update W1\n",
    "    W1 = W1 - learning_rate * new_w1\n",
    "    # Update W2\n",
    "    W2 = W2 - learning_rate * new_w2\n",
    "    # Update b\n",
    "    b = b - learning_rate * new_b\n",
    "    # Print training progress every 1000 epochs\n",
    "    if epoch % 1000 == 0:\n",
    "        print('Epoch: {}, Error: {}'.format(epoch, error))"
   ]
  },
  {
   "cell_type": "code",
   "execution_count": 12,
   "metadata": {},
   "outputs": [
    {
     "data": {
      "text/plain": [
       "Text(0, 0.5, 'y')"
      ]
     },
     "execution_count": 12,
     "metadata": {},
     "output_type": "execute_result"
    },
    {
     "data": {
      "image/png": "[encoded data removed]",
      "text/plain": [
       "<Figure size 432x288 with 1 Axes>"
      ]
     },
     "metadata": {
      "needs_background": "light"
     },
     "output_type": "display_data"
    }
   ],
   "source": [
    "# Predictions for training data\n",
    "y_hat_train = W1*X_train + W2*(X_train**2) + b\n",
    "# Plot training data\n",
    "plt.scatter(X_train, y_train)\n",
    "# Plot line fitted to training data\n",
    "plt.plot(X_train, y_hat_train, 'r')\n",
    "# Title\n",
    "plt.title('Fitted Line - Training data')\n",
    "# Labels names\n",
    "plt.xlabel('x')\n",
    "plt.ylabel('y')"
   ]
  },
  {
   "cell_type": "code",
   "execution_count": 13,
   "metadata": {},
   "outputs": [
    {
     "data": {
      "text/plain": [
       "Text(0, 0.5, 'y')"
      ]
     },
     "execution_count": 13,
     "metadata": {},
     "output_type": "execute_result"
    },
    {
     "data": {
      "image/png": "[encoded data removed]",
      "text/plain": [
       "<Figure size 432x288 with 1 Axes>"
      ]
     },
     "metadata": {
      "needs_background": "light"
     },
     "output_type": "display_data"
    }
   ],
   "source": [
    "# Predictions for test data\n",
    "y_hat_test = W1*X_test + W2*(X_test**2) + b\n",
    "# Plot test data\n",
    "plt.scatter(X_test, y_test)\n",
    "# Plot line fitted to test data\n",
    "plt.plot(X_test, y_hat_test, 'r')\n",
    "# Title\n",
    "plt.title('Fitted Line - Test data')\n",
    "# Labels names\n",
    "plt.xlabel('x')\n",
    "plt.ylabel('y')"
   ]
  },
  {
   "cell_type": "markdown",
   "metadata": {},
   "source": [
    "# Polynomial Reression - Sklearn"
   ]
  },
  {
   "cell_type": "code",
   "execution_count": 14,
   "metadata": {},
   "outputs": [],
   "source": [
    "from sklearn.preprocessing import PolynomialFeatures\n",
    "from sklearn.linear_model import LinearRegression"
   ]
  },
  {
   "cell_type": "code",
   "execution_count": 15,
   "metadata": {},
   "outputs": [],
   "source": [
    "# Add new axis to x\n",
    "x_poly_train = X_train[:,np.newaxis]\n",
    "x_poly_test = X_test[:,np.newaxis]"
   ]
  },
  {
   "cell_type": "code",
   "execution_count": 16,
   "metadata": {},
   "outputs": [],
   "source": [
    "# Create Polynomial Features model\n",
    "poly = PolynomialFeatures(degree=2)\n",
    "# Fit data to model\n",
    "x_poly_train = poly.fit_transform(x_poly_train)\n",
    "x_poly_test = poly.transform(x_poly_test)"
   ]
  },
  {
   "cell_type": "code",
   "execution_count": 17,
   "metadata": {},
   "outputs": [
    {
     "data": {
      "text/plain": [
       "LinearRegression(copy_X=True, fit_intercept=True, n_jobs=None,\n",
       "         normalize=False)"
      ]
     },
     "execution_count": 17,
     "metadata": {},
     "output_type": "execute_result"
    }
   ],
   "source": [
    "# Create Linear Regression model\n",
    "lr = LinearRegression()\n",
    "# Train model\n",
    "lr.fit(x_poly_train, y_train)"
   ]
  },
  {
   "cell_type": "code",
   "execution_count": 18,
   "metadata": {},
   "outputs": [],
   "source": [
    "# Predictions\n",
    "train_preds = lr.predict(x_poly_train)\n",
    "test_preds = lr.predict(x_poly_test)"
   ]
  },
  {
   "cell_type": "code",
   "execution_count": 19,
   "metadata": {},
   "outputs": [
    {
     "data": {
      "text/plain": [
       "Text(0, 0.5, 'y')"
      ]
     },
     "execution_count": 19,
     "metadata": {},
     "output_type": "execute_result"
    },
    {
     "data": {
      "image/png": "[encoded data removed]",
      "text/plain": [
       "<Figure size 432x288 with 1 Axes>"
      ]
     },
     "metadata": {
      "needs_background": "light"
     },
     "output_type": "display_data"
    }
   ],
   "source": [
    "# Plot training data\n",
    "plt.scatter(X_train, y_train)\n",
    "# Plot line fitted to training data\n",
    "plt.plot(X_train, train_preds, 'r')\n",
    "# Title\n",
    "plt.title('Fitted Line - Training data')\n",
    "# Labels names\n",
    "plt.xlabel('x')\n",
    "plt.ylabel('y')"
   ]
  },
  {
   "cell_type": "code",
   "execution_count": 20,
   "metadata": {},
   "outputs": [
    {
     "data": {
      "text/plain": [
       "Text(0, 0.5, 'y')"
      ]
     },
     "execution_count": 20,
     "metadata": {},
     "output_type": "execute_result"
    },
    {
     "data": {
      "image/png": "[encoded data removed]",
      "text/plain": [
       "<Figure size 432x288 with 1 Axes>"
      ]
     },
     "metadata": {
      "needs_background": "light"
     },
     "output_type": "display_data"
    }
   ],
   "source": [
    "# Plot test data\n",
    "plt.scatter(X_test, y_test)\n",
    "# Plot line fitted to test data\n",
    "plt.plot(X_test, test_preds, 'r')\n",
    "# Title\n",
    "plt.title('Fitted Line - Test data')\n",
    "# Labels names\n",
    "plt.xlabel('x')\n",
    "plt.ylabel('y')"
   ]
  },
  {
   "cell_type": "code",
   "execution_count": null,
   "metadata": {},
   "outputs": [],
   "source": []
  }
 ],
 "metadata": {
  "kernelspec": {
   "display_name": "Python 3",
   "language": "python",
   "name": "python3"
  },
  "language_info": {
   "codemirror_mode": {
    "name": "ipython",
    "version": 3
   },
   "file_extension": ".py",
   "mimetype": "text/x-python",
   "name": "python",
   "nbconvert_exporter": "python",
   "pygments_lexer": "ipython3",
   "version": "3.6.7"
  }
 },
 "nbformat": 4,
 "nbformat_minor": 2
}

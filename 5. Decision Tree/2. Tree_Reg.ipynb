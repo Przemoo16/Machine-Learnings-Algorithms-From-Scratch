{
 "cells": [
  {
   "cell_type": "markdown",
   "metadata": {},
   "source": [
    "# Decision Tree - Regression (ID3)"
   ]
  },
  {
   "cell_type": "code",
   "execution_count": 1,
   "metadata": {},
   "outputs": [],
   "source": [
    "import numpy as np\n",
    "import pandas as pd"
   ]
  },
  {
   "cell_type": "code",
   "execution_count": 2,
   "metadata": {},
   "outputs": [],
   "source": [
    "# Create dataset\n",
    "dataset = {'Outlook':['Rainy','Rainy','Overcast','Sunny','Sunny','Sunny','Overcast','Rainy','Rainy','Sunny','Rainy','Overcast','Overcast','Sunny'],\n",
    "       'Temperature':['Hot','Hot','Hot','Mild','Cool','Cool','Cool','Mild','Cool','Mild','Mild','Mild','Hot','Mild'],\n",
    "       'Humidity':['High','High','High','High','Normal','Normal','Normal','High','Normal','Normal','Normal','High','Normal','High'],\n",
    "       'Windy':['False','True','False','False','False','True','True','False','False','False','True','True','False','True'],\n",
    "       'Hours Played':[25, 30, 46, 45, 52, 23, 43, 35, 38, 46, 48, 52, 44, 30]}"
   ]
  },
  {
   "cell_type": "code",
   "execution_count": 3,
   "metadata": {},
   "outputs": [],
   "source": [
    "# Dataset do DataFrame\n",
    "df = pd.DataFrame(dataset,columns=['Outlook','Temperature','Humidity','Windy','Hours Played'])"
   ]
  },
  {
   "cell_type": "code",
   "execution_count": 4,
   "metadata": {},
   "outputs": [
    {
     "data": {
      "text/html": [
       "<div>\n",
       "<style scoped>\n",
       "    .dataframe tbody tr th:only-of-type {\n",
       "        vertical-align: middle;\n",
       "    }\n",
       "\n",
       "    .dataframe tbody tr th {\n",
       "        vertical-align: top;\n",
       "    }\n",
       "\n",
       "    .dataframe thead th {\n",
       "        text-align: right;\n",
       "    }\n",
       "</style>\n",
       "<table border=\"1\" class=\"dataframe\">\n",
       "  <thead>\n",
       "    <tr style=\"text-align: right;\">\n",
       "      <th></th>\n",
       "      <th>Outlook</th>\n",
       "      <th>Temperature</th>\n",
       "      <th>Humidity</th>\n",
       "      <th>Windy</th>\n",
       "      <th>Hours Played</th>\n",
       "    </tr>\n",
       "  </thead>\n",
       "  <tbody>\n",
       "    <tr>\n",
       "      <th>0</th>\n",
       "      <td>Rainy</td>\n",
       "      <td>Hot</td>\n",
       "      <td>High</td>\n",
       "      <td>False</td>\n",
       "      <td>25</td>\n",
       "    </tr>\n",
       "    <tr>\n",
       "      <th>1</th>\n",
       "      <td>Rainy</td>\n",
       "      <td>Hot</td>\n",
       "      <td>High</td>\n",
       "      <td>True</td>\n",
       "      <td>30</td>\n",
       "    </tr>\n",
       "    <tr>\n",
       "      <th>2</th>\n",
       "      <td>Overcast</td>\n",
       "      <td>Hot</td>\n",
       "      <td>High</td>\n",
       "      <td>False</td>\n",
       "      <td>46</td>\n",
       "    </tr>\n",
       "    <tr>\n",
       "      <th>3</th>\n",
       "      <td>Sunny</td>\n",
       "      <td>Mild</td>\n",
       "      <td>High</td>\n",
       "      <td>False</td>\n",
       "      <td>45</td>\n",
       "    </tr>\n",
       "    <tr>\n",
       "      <th>4</th>\n",
       "      <td>Sunny</td>\n",
       "      <td>Cool</td>\n",
       "      <td>Normal</td>\n",
       "      <td>False</td>\n",
       "      <td>52</td>\n",
       "    </tr>\n",
       "    <tr>\n",
       "      <th>5</th>\n",
       "      <td>Sunny</td>\n",
       "      <td>Cool</td>\n",
       "      <td>Normal</td>\n",
       "      <td>True</td>\n",
       "      <td>23</td>\n",
       "    </tr>\n",
       "    <tr>\n",
       "      <th>6</th>\n",
       "      <td>Overcast</td>\n",
       "      <td>Cool</td>\n",
       "      <td>Normal</td>\n",
       "      <td>True</td>\n",
       "      <td>43</td>\n",
       "    </tr>\n",
       "    <tr>\n",
       "      <th>7</th>\n",
       "      <td>Rainy</td>\n",
       "      <td>Mild</td>\n",
       "      <td>High</td>\n",
       "      <td>False</td>\n",
       "      <td>35</td>\n",
       "    </tr>\n",
       "    <tr>\n",
       "      <th>8</th>\n",
       "      <td>Rainy</td>\n",
       "      <td>Cool</td>\n",
       "      <td>Normal</td>\n",
       "      <td>False</td>\n",
       "      <td>38</td>\n",
       "    </tr>\n",
       "    <tr>\n",
       "      <th>9</th>\n",
       "      <td>Sunny</td>\n",
       "      <td>Mild</td>\n",
       "      <td>Normal</td>\n",
       "      <td>False</td>\n",
       "      <td>46</td>\n",
       "    </tr>\n",
       "    <tr>\n",
       "      <th>10</th>\n",
       "      <td>Rainy</td>\n",
       "      <td>Mild</td>\n",
       "      <td>Normal</td>\n",
       "      <td>True</td>\n",
       "      <td>48</td>\n",
       "    </tr>\n",
       "    <tr>\n",
       "      <th>11</th>\n",
       "      <td>Overcast</td>\n",
       "      <td>Mild</td>\n",
       "      <td>High</td>\n",
       "      <td>True</td>\n",
       "      <td>52</td>\n",
       "    </tr>\n",
       "    <tr>\n",
       "      <th>12</th>\n",
       "      <td>Overcast</td>\n",
       "      <td>Hot</td>\n",
       "      <td>Normal</td>\n",
       "      <td>False</td>\n",
       "      <td>44</td>\n",
       "    </tr>\n",
       "    <tr>\n",
       "      <th>13</th>\n",
       "      <td>Sunny</td>\n",
       "      <td>Mild</td>\n",
       "      <td>High</td>\n",
       "      <td>True</td>\n",
       "      <td>30</td>\n",
       "    </tr>\n",
       "  </tbody>\n",
       "</table>\n",
       "</div>"
      ],
      "text/plain": [
       "     Outlook Temperature Humidity  Windy  Hours Played\n",
       "0      Rainy         Hot     High  False            25\n",
       "1      Rainy         Hot     High   True            30\n",
       "2   Overcast         Hot     High  False            46\n",
       "3      Sunny        Mild     High  False            45\n",
       "4      Sunny        Cool   Normal  False            52\n",
       "5      Sunny        Cool   Normal   True            23\n",
       "6   Overcast        Cool   Normal   True            43\n",
       "7      Rainy        Mild     High  False            35\n",
       "8      Rainy        Cool   Normal  False            38\n",
       "9      Sunny        Mild   Normal  False            46\n",
       "10     Rainy        Mild   Normal   True            48\n",
       "11  Overcast        Mild     High   True            52\n",
       "12  Overcast         Hot   Normal  False            44\n",
       "13     Sunny        Mild     High   True            30"
      ]
     },
     "execution_count": 4,
     "metadata": {},
     "output_type": "execute_result"
    }
   ],
   "source": [
    "# Show dataset\n",
    "df"
   ]
  },
  {
   "cell_type": "code",
   "execution_count": 5,
   "metadata": {},
   "outputs": [],
   "source": [
    "# Column with classes\n",
    "label_col = 'Hours Played'"
   ]
  },
  {
   "cell_type": "markdown",
   "metadata": {},
   "source": [
    "### Standard deviation for whole label column\n",
    "<img src=\"./Images/sd.png\">"
   ]
  },
  {
   "cell_type": "markdown",
   "metadata": {},
   "source": [
    "### Standard deviation for two attributes (target and predictor)\n",
    "<img src=\"./Images/sd2.png\">"
   ]
  },
  {
   "cell_type": "code",
   "execution_count": 6,
   "metadata": {},
   "outputs": [],
   "source": [
    "# Standard deviation\n",
    "def standard_deviation(data, label_col, label=None, feature=None):\n",
    "    # If not given label count standard deviation and len for whole label column\n",
    "    if label == None:\n",
    "        stand_dev = np.std(data[label_col])\n",
    "        count = len(data[label_col])\n",
    "        return stand_dev, count\n",
    "    # Else count standard deviation and len for given label and feature\n",
    "    else:\n",
    "        stand_dev = np.std(data[data[label] == feature])[0]\n",
    "        count = len(data[data[label] == feature])\n",
    "        return stand_dev, count"
   ]
  },
  {
   "cell_type": "markdown",
   "metadata": {},
   "source": [
    "### Standard Deviation Reduction\n",
    "<img src=\"./Images/sdr.png\">"
   ]
  },
  {
   "cell_type": "code",
   "execution_count": 7,
   "metadata": {},
   "outputs": [],
   "source": [
    "# Standard Deviation Reduction\n",
    "def standard_deviation_reduction(data, label_col):\n",
    "    # List to grab Standard Deviation Reduction\n",
    "    SD_tab = []\n",
    "    # Standard deviation for whole label column\n",
    "    S_all, c_all = standard_deviation(df, label_col)\n",
    "    # For each column except label column\n",
    "    for column in data.columns[:-1]:\n",
    "        # List to grab Standard Deviation\n",
    "        S_tab = []\n",
    "        # For each unique value in column\n",
    "        for unique in data[column].unique():\n",
    "            # Standard Deviation and len for each unique value in column\n",
    "            S, c = standard_deviation(data, label_col, label=column, feature=unique)\n",
    "            # Standard Deviation for two attributes\n",
    "            S_tab.append((c / len(data)) * S)\n",
    "        # Standard Deviation Reduction\n",
    "        SD_tab.append(S_all - np.sum(S_tab))\n",
    "    return SD_tab"
   ]
  },
  {
   "cell_type": "markdown",
   "metadata": {},
   "source": [
    "### Standard Deviation Reduction\n",
    "<img src=\"./Images/cov.png\">"
   ]
  },
  {
   "cell_type": "code",
   "execution_count": 8,
   "metadata": {},
   "outputs": [],
   "source": [
    "# Coeffeicient of Variation\n",
    "def coeffeicient_of_variation(data, label_col, label, feature):\n",
    "    S, c = standard_deviation(data, label_col, label, feature)\n",
    "    return S/np.mean(data[data[label] == feature][label_col]) * 100"
   ]
  },
  {
   "cell_type": "code",
   "execution_count": 9,
   "metadata": {
    "scrolled": true
   },
   "outputs": [],
   "source": [
    "# Threshold to stop iteration\n",
    "threshold = 10\n",
    "\n",
    "# Build tree\n",
    "def build_tree(data, tree_dict=None):\n",
    "    # Entropy for whole label data\n",
    "    SD = standard_deviation_reduction(data, label_col)\n",
    "    # Winner column\n",
    "    winner_col = data.columns[np.argmax(SD)]\n",
    "    # If tree_dict is None, create tree\n",
    "    if tree_dict is None:                    \n",
    "        tree_dict={}\n",
    "        tree_dict[winner_col] = {}\n",
    "    # Each unique value in winner column\n",
    "    for value in np.unique(data[winner_col]):\n",
    "        # Coeffeicient of Variation for \n",
    "        CV = coeffeicient_of_variation(data, label_col, label=winner_col, feature=value)\n",
    "        # Part of tree with winner column\n",
    "        grab_part = data[data[winner_col] == value]\n",
    "        # Unique values (Yes / No) in part of tree\n",
    "        unique_labels = np.unique(grab_part[label_col])\n",
    "        # If only the values of one class were left stop iteration\n",
    "        if len(unique_labels) == 1:\n",
    "            # Add class to tree_dict\n",
    "            tree_dict[winner_col][value] = unique_labels[0]\n",
    "        # If CV < threshold or is only 3 element in leaf stop iteration\n",
    "        elif (CV < threshold) or (len(grab_part[label_col]) <= 3):\n",
    "            # Add mean of results to tree_dict\n",
    "            tree_dict[winner_col][value] = np.mean(grab_part[label_col])\n",
    "        # Else recursively call functions\n",
    "        else:\n",
    "            # Add result of recursively call function to tree_dict\n",
    "            tree_dict[winner_col][value] = build_tree(grab_part)\n",
    "    return tree_dict"
   ]
  },
  {
   "cell_type": "code",
   "execution_count": 10,
   "metadata": {},
   "outputs": [],
   "source": [
    "# Build tree\n",
    "tree = build_tree(df)"
   ]
  },
  {
   "cell_type": "code",
   "execution_count": 11,
   "metadata": {
    "scrolled": true
   },
   "outputs": [
    {
     "name": "stdout",
     "output_type": "stream",
     "text": [
      "{'Outlook': {'Overcast': 46.25,\n",
      "             'Rainy': {'Temperature': {'Cool': 38, 'Hot': 27.5, 'Mild': 41.5}},\n",
      "             'Sunny': {'Windy': {'False': 47.666666666666664, 'True': 26.5}}}}\n"
     ]
    }
   ],
   "source": [
    "# Library to preety print\n",
    "import pprint\n",
    "# Print tree\n",
    "pprint.pprint(tree)"
   ]
  },
  {
   "cell_type": "code",
   "execution_count": 12,
   "metadata": {},
   "outputs": [],
   "source": [
    "# Prediction function\n",
    "def predict(ex, tree):\n",
    "    # For every nodes\n",
    "    for nodes in tree.keys():\n",
    "        # Grab selected column from sample\n",
    "        value = ex[nodes]\n",
    "        # Add selected column to dict\n",
    "        tree = tree[nodes][value]\n",
    "        # If tree is dict recursively call function\n",
    "        if type(tree) is dict:\n",
    "            prediction = predict(ex, tree)\n",
    "        # Else final prediction\n",
    "        else:\n",
    "            prediction = tree\n",
    "            break\n",
    "    return prediction"
   ]
  },
  {
   "cell_type": "code",
   "execution_count": 13,
   "metadata": {},
   "outputs": [
    {
     "data": {
      "text/plain": [
       "Outlook         Overcast\n",
       "Temperature         Cool\n",
       "Humidity          Normal\n",
       "Windy               True\n",
       "Hours Played          43\n",
       "Name: 6, dtype: object"
      ]
     },
     "execution_count": 13,
     "metadata": {},
     "output_type": "execute_result"
    }
   ],
   "source": [
    "# Test example\n",
    "ex = df.iloc[6]\n",
    "ex"
   ]
  },
  {
   "cell_type": "code",
   "execution_count": 14,
   "metadata": {},
   "outputs": [
    {
     "data": {
      "text/plain": [
       "46.25"
      ]
     },
     "execution_count": 14,
     "metadata": {},
     "output_type": "execute_result"
    }
   ],
   "source": [
    "# Prediction\n",
    "predict(ex, tree)"
   ]
  },
  {
   "cell_type": "code",
   "execution_count": null,
   "metadata": {},
   "outputs": [],
   "source": []
  }
 ],
 "metadata": {
  "kernelspec": {
   "display_name": "Python 3",
   "language": "python",
   "name": "python3"
  },
  "language_info": {
   "codemirror_mode": {
    "name": "ipython",
    "version": 3
   },
   "file_extension": ".py",
   "mimetype": "text/x-python",
   "name": "python",
   "nbconvert_exporter": "python",
   "pygments_lexer": "ipython3",
   "version": "3.6.7"
  }
 },
 "nbformat": 4,
 "nbformat_minor": 2
}

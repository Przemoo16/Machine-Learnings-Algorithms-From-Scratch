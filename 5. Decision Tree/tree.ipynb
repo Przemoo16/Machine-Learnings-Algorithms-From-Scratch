{
 "cells": [
  {
   "cell_type": "markdown",
   "metadata": {},
   "source": [
    "# Decision Tree (ID3)"
   ]
  },
  {
   "cell_type": "code",
   "execution_count": 1,
   "metadata": {},
   "outputs": [],
   "source": [
    "import numpy as np\n",
    "import pandas as pd\n",
    "# Very small number to avoid log(0)\n",
    "eps = np.finfo(float).eps"
   ]
  },
  {
   "cell_type": "code",
   "execution_count": 2,
   "metadata": {},
   "outputs": [],
   "source": [
    "# Create dataset\n",
    "dataset = {'Taste':['Salty','Spicy','Spicy','Spicy','Spicy','Sweet','Salty','Sweet','Spicy','Salty'],\n",
    "       'Temperature':['Hot','Hot','Hot','Cold','Hot','Cold','Cold','Hot','Cold','Hot'],\n",
    "       'Texture':['Soft','Soft','Hard','Hard','Hard','Soft','Soft','Soft','Soft','Hard'],\n",
    "       'Eat':['No','No','Yes','No','Yes','Yes','No','Yes','Yes','Yes']}"
   ]
  },
  {
   "cell_type": "code",
   "execution_count": 3,
   "metadata": {},
   "outputs": [],
   "source": [
    "# Dataset do DataFrame\n",
    "df = pd.DataFrame(dataset,columns=['Taste','Temperature','Texture','Eat'])"
   ]
  },
  {
   "cell_type": "code",
   "execution_count": 4,
   "metadata": {},
   "outputs": [
    {
     "data": {
      "text/html": [
       "<div>\n",
       "<style scoped>\n",
       "    .dataframe tbody tr th:only-of-type {\n",
       "        vertical-align: middle;\n",
       "    }\n",
       "\n",
       "    .dataframe tbody tr th {\n",
       "        vertical-align: top;\n",
       "    }\n",
       "\n",
       "    .dataframe thead th {\n",
       "        text-align: right;\n",
       "    }\n",
       "</style>\n",
       "<table border=\"1\" class=\"dataframe\">\n",
       "  <thead>\n",
       "    <tr style=\"text-align: right;\">\n",
       "      <th></th>\n",
       "      <th>Taste</th>\n",
       "      <th>Temperature</th>\n",
       "      <th>Texture</th>\n",
       "      <th>Eat</th>\n",
       "    </tr>\n",
       "  </thead>\n",
       "  <tbody>\n",
       "    <tr>\n",
       "      <th>0</th>\n",
       "      <td>Salty</td>\n",
       "      <td>Hot</td>\n",
       "      <td>Soft</td>\n",
       "      <td>No</td>\n",
       "    </tr>\n",
       "    <tr>\n",
       "      <th>1</th>\n",
       "      <td>Spicy</td>\n",
       "      <td>Hot</td>\n",
       "      <td>Soft</td>\n",
       "      <td>No</td>\n",
       "    </tr>\n",
       "    <tr>\n",
       "      <th>2</th>\n",
       "      <td>Spicy</td>\n",
       "      <td>Hot</td>\n",
       "      <td>Hard</td>\n",
       "      <td>Yes</td>\n",
       "    </tr>\n",
       "    <tr>\n",
       "      <th>3</th>\n",
       "      <td>Spicy</td>\n",
       "      <td>Cold</td>\n",
       "      <td>Hard</td>\n",
       "      <td>No</td>\n",
       "    </tr>\n",
       "    <tr>\n",
       "      <th>4</th>\n",
       "      <td>Spicy</td>\n",
       "      <td>Hot</td>\n",
       "      <td>Hard</td>\n",
       "      <td>Yes</td>\n",
       "    </tr>\n",
       "    <tr>\n",
       "      <th>5</th>\n",
       "      <td>Sweet</td>\n",
       "      <td>Cold</td>\n",
       "      <td>Soft</td>\n",
       "      <td>Yes</td>\n",
       "    </tr>\n",
       "    <tr>\n",
       "      <th>6</th>\n",
       "      <td>Salty</td>\n",
       "      <td>Cold</td>\n",
       "      <td>Soft</td>\n",
       "      <td>No</td>\n",
       "    </tr>\n",
       "    <tr>\n",
       "      <th>7</th>\n",
       "      <td>Sweet</td>\n",
       "      <td>Hot</td>\n",
       "      <td>Soft</td>\n",
       "      <td>Yes</td>\n",
       "    </tr>\n",
       "    <tr>\n",
       "      <th>8</th>\n",
       "      <td>Spicy</td>\n",
       "      <td>Cold</td>\n",
       "      <td>Soft</td>\n",
       "      <td>Yes</td>\n",
       "    </tr>\n",
       "    <tr>\n",
       "      <th>9</th>\n",
       "      <td>Salty</td>\n",
       "      <td>Hot</td>\n",
       "      <td>Hard</td>\n",
       "      <td>Yes</td>\n",
       "    </tr>\n",
       "  </tbody>\n",
       "</table>\n",
       "</div>"
      ],
      "text/plain": [
       "   Taste Temperature Texture  Eat\n",
       "0  Salty         Hot    Soft   No\n",
       "1  Spicy         Hot    Soft   No\n",
       "2  Spicy         Hot    Hard  Yes\n",
       "3  Spicy        Cold    Hard   No\n",
       "4  Spicy         Hot    Hard  Yes\n",
       "5  Sweet        Cold    Soft  Yes\n",
       "6  Salty        Cold    Soft   No\n",
       "7  Sweet         Hot    Soft  Yes\n",
       "8  Spicy        Cold    Soft  Yes\n",
       "9  Salty         Hot    Hard  Yes"
      ]
     },
     "execution_count": 4,
     "metadata": {},
     "output_type": "execute_result"
    }
   ],
   "source": [
    "# Show dataset\n",
    "df"
   ]
  },
  {
   "cell_type": "code",
   "execution_count": 5,
   "metadata": {},
   "outputs": [],
   "source": [
    "# Column with classes\n",
    "label_col = 'Eat'"
   ]
  },
  {
   "cell_type": "markdown",
   "metadata": {},
   "source": [
    "<img src=\"./Images/entropy.jpeg\">\n",
    "\n",
    "Source = <a href=\"https://en.wikipedia.org/wiki/ID3_algorithm\"> Wikipedia </a>"
   ]
  },
  {
   "cell_type": "code",
   "execution_count": 6,
   "metadata": {},
   "outputs": [],
   "source": [
    "# Entropy for all data\n",
    "def entropy_all_data(data, label_col):\n",
    "    entropy = 0\n",
    "    # Uniques values in label column (Yes/ No)\n",
    "    uniques = data[label_col].unique()\n",
    "    # For each unique value\n",
    "    for unique in uniques:\n",
    "        # Number of each uniques values in label column / len all data\n",
    "        fraction = data[label_col].value_counts()[unique] / len(data)\n",
    "        # Entropy formula\n",
    "        entropy += -fraction * np.log2(fraction)\n",
    "    return entropy"
   ]
  },
  {
   "cell_type": "markdown",
   "metadata": {},
   "source": [
    "<img src=\"./Images/gain.jpeg\">\n",
    "\n",
    "Source = <a href=\"https://en.wikipedia.org/wiki/ID3_algorithm\"> Wikipedia </a>"
   ]
  },
  {
   "cell_type": "code",
   "execution_count": 7,
   "metadata": {},
   "outputs": [],
   "source": [
    "# Gain function\n",
    "def gain_function(data, label_col, H):\n",
    "    # Len all data\n",
    "    num_all_data = len(data)\n",
    "    # Targets ('Yes' / 'No')\n",
    "    targets = df[label_col].unique()\n",
    "    # Entropy for each column\n",
    "    E_average_column = []\n",
    "    # Each columns except label column\n",
    "    for column in data.columns[:-1]:\n",
    "        # Unique values in column\n",
    "        uniques = data[column].unique()\n",
    "        # Entropy for each unique value in column\n",
    "        E_average_unique = []\n",
    "        # Each unique values\n",
    "        for unique in uniques:\n",
    "            # Entropy 0\n",
    "            entropy = 0\n",
    "            # Len of data in column\n",
    "            num_all_column = len(data[(data[column] == unique)])\n",
    "            # For each target (Yes / No)\n",
    "            for target in targets:\n",
    "                # Number of unique values in column ('Yes' / 'No')\n",
    "                num_yes_no = len(data[(data[column] == unique) & (data[label_col] == target)])\n",
    "                # Number of each uniques values in column / len of all data in this column\n",
    "                fraction = num_yes_no/num_all_column\n",
    "                # Add to entropy\n",
    "                entropy += -fraction * np.log2(eps+fraction)\n",
    "            # Entropy for each unique value\n",
    "            E_average_unique.append((num_all_column/num_all_data)*entropy)\n",
    "        # Gain for each column\n",
    "        E_average_column.append(H - np.sum(E_average_unique))\n",
    "    return E_average_column"
   ]
  },
  {
   "cell_type": "code",
   "execution_count": 8,
   "metadata": {
    "scrolled": true
   },
   "outputs": [],
   "source": [
    "# Build tree\n",
    "def build_tree(data, tree_dict=None):\n",
    "    # Entropy for all data\n",
    "    H = entropy_all_data(data, label_col)\n",
    "    # Gain\n",
    "    gain = gain_function(data, label_col, H)\n",
    "    # Winner column\n",
    "    winner_col = data.columns[np.argmax(gain)]\n",
    "    # If tree_dict is None, create tree\n",
    "    if tree_dict is None:                    \n",
    "        tree_dict={}\n",
    "        tree_dict[winner_col] = {}\n",
    "    # Each unique value in winner column\n",
    "    for value in np.unique(data[winner_col]):\n",
    "        # Part of tree with winner column\n",
    "        grab_part = data[data[winner_col] == value]\n",
    "        # Unique values (Yes / No) in part of tree\n",
    "        unique_labels = np.unique(grab_part[label_col])\n",
    "        # If only the values of one class were left\n",
    "        if len(unique_labels) == 1:\n",
    "            # Add class to tree_dict\n",
    "            tree_dict[winner_col][value] = unique_labels[0]\n",
    "        # Else recursively call functions\n",
    "        else:\n",
    "            # Add result of recursively call functions to tree_dict\n",
    "            tree_dict[winner_col][value] = build_tree(grab_part)\n",
    "    return tree_dict"
   ]
  },
  {
   "cell_type": "code",
   "execution_count": 9,
   "metadata": {},
   "outputs": [],
   "source": [
    "# Build tree\n",
    "tree = build_tree(df)"
   ]
  },
  {
   "cell_type": "code",
   "execution_count": 10,
   "metadata": {
    "scrolled": true
   },
   "outputs": [
    {
     "name": "stdout",
     "output_type": "stream",
     "text": [
      "{'Taste': {'Salty': {'Texture': {'Hard': 'Yes', 'Soft': 'No'}},\n",
      "           'Spicy': {'Temperature': {'Cold': {'Texture': {'Hard': 'No',\n",
      "                                                          'Soft': 'Yes'}},\n",
      "                                     'Hot': {'Texture': {'Hard': 'Yes',\n",
      "                                                         'Soft': 'No'}}}},\n",
      "           'Sweet': 'Yes'}}\n"
     ]
    }
   ],
   "source": [
    "# Library to preety print\n",
    "import pprint\n",
    "# Print tree\n",
    "pprint.pprint(tree)"
   ]
  },
  {
   "cell_type": "code",
   "execution_count": 11,
   "metadata": {},
   "outputs": [],
   "source": [
    "# Prediction function\n",
    "def predict(inst, tree):\n",
    "    # For every nodes\n",
    "    for nodes in tree.keys():\n",
    "        # Grab selected columns from sample\n",
    "        value = inst[nodes]\n",
    "        # Add selected column to dict\n",
    "        tree = tree[nodes][value]\n",
    "        # If tree is dict recursively call functions\n",
    "        if type(tree) is dict:\n",
    "            prediction = predict(inst, tree)\n",
    "        # Else final prediction\n",
    "        else:\n",
    "            prediction = tree\n",
    "            break\n",
    "    return prediction"
   ]
  },
  {
   "cell_type": "code",
   "execution_count": 12,
   "metadata": {},
   "outputs": [
    {
     "data": {
      "text/plain": [
       "Taste          Salty\n",
       "Temperature     Cold\n",
       "Texture         Soft\n",
       "Eat               No\n",
       "Name: 6, dtype: object"
      ]
     },
     "execution_count": 12,
     "metadata": {},
     "output_type": "execute_result"
    }
   ],
   "source": [
    "# Test example\n",
    "inst = df.iloc[6]\n",
    "inst"
   ]
  },
  {
   "cell_type": "code",
   "execution_count": 13,
   "metadata": {},
   "outputs": [
    {
     "data": {
      "text/plain": [
       "'No'"
      ]
     },
     "execution_count": 13,
     "metadata": {},
     "output_type": "execute_result"
    }
   ],
   "source": [
    "# Prediction\n",
    "predict(inst, tree)"
   ]
  },
  {
   "cell_type": "markdown",
   "metadata": {},
   "source": [
    "# Decision Tree (CART)"
   ]
  },
  {
   "cell_type": "code",
   "execution_count": 14,
   "metadata": {},
   "outputs": [],
   "source": [
    "# Gini function\n",
    "def gini(data, label_col):\n",
    "    # List to grab gini values\n",
    "    gini_tab = []\n",
    "    # Len of all data\n",
    "    num_all = len(data)\n",
    "    # Targets ('Yes' / 'No')\n",
    "    targets = df[label_col].unique()\n",
    "    # Each column except label column\n",
    "    for column in data.columns[:-1]:\n",
    "        # Gini for each class\n",
    "        gini_class = []\n",
    "        # Every unique value in every column\n",
    "        for unique in data[column].unique():\n",
    "            # Gini\n",
    "            g = 1\n",
    "            # Num of each unique values in class\n",
    "            num_all_unique = len(data[(data[column] == unique)])\n",
    "            # For each target (Yes / No)\n",
    "            for target in targets:\n",
    "                # Number of unique values in column ('Yes' / 'No')    \n",
    "                num_yes_no = len(data[(data[column] == unique) & (data[label_col] == target)])\n",
    "                # Gini for each target\n",
    "                g -= (num_yes_no/num_all_unique)**2\n",
    "            # Gini for each unique value\n",
    "            gini_class.append((num_all_unique/num_all)*g)\n",
    "        # Gini for each class\n",
    "        gini_tab.append(np.sum(gini_class))\n",
    "    return gini_tab"
   ]
  },
  {
   "cell_type": "code",
   "execution_count": 15,
   "metadata": {},
   "outputs": [],
   "source": [
    "# Build tree\n",
    "def build_tree(data, tree_dict=None):\n",
    "    # Gini\n",
    "    gini_value = gini(data, label_col)\n",
    "    # Winner column\n",
    "    winner_col = data.columns[np.argmin(gini_value)]\n",
    "    # If tree_dict is None, create tree\n",
    "    if tree_dict is None:                    \n",
    "        tree_dict={}\n",
    "        tree_dict[winner_col] = {}\n",
    "    # Each unique value in winner column\n",
    "    for value in np.unique(data[winner_col]):\n",
    "        # Part of tree with winner column\n",
    "        grab_part = data[data[winner_col] == value]\n",
    "        # Unique values (Yes / No) in part of tree\n",
    "        unique_labels = np.unique(grab_part[label_col])\n",
    "        # If only the values of one class were left\n",
    "        if len(unique_labels) == 1:\n",
    "            # Add class to tree_dict\n",
    "            tree_dict[winner_col][value] = unique_labels[0]\n",
    "        # Else recursively call functions\n",
    "        else:\n",
    "            # Add result of recursively call functions to tree_dict\n",
    "            tree_dict[winner_col][value] = build_tree(grab_part)\n",
    "    return tree_dict"
   ]
  },
  {
   "cell_type": "code",
   "execution_count": 16,
   "metadata": {},
   "outputs": [],
   "source": [
    "tree_gini = build_tree(df)"
   ]
  },
  {
   "cell_type": "code",
   "execution_count": 17,
   "metadata": {},
   "outputs": [
    {
     "name": "stdout",
     "output_type": "stream",
     "text": [
      "{'Taste': {'Salty': {'Texture': {'Hard': 'Yes', 'Soft': 'No'}},\n",
      "           'Spicy': {'Temperature': {'Cold': {'Texture': {'Hard': 'No',\n",
      "                                                          'Soft': 'Yes'}},\n",
      "                                     'Hot': {'Texture': {'Hard': 'Yes',\n",
      "                                                         'Soft': 'No'}}}},\n",
      "           'Sweet': 'Yes'}}\n"
     ]
    }
   ],
   "source": [
    "import pprint\n",
    "pprint.pprint(tree_gini)"
   ]
  },
  {
   "cell_type": "code",
   "execution_count": 18,
   "metadata": {},
   "outputs": [],
   "source": [
    "# Prediction function\n",
    "def predict(inst, tree):\n",
    "    # For every nodes\n",
    "    for nodes in tree.keys():\n",
    "        # Grab selected columns from sample\n",
    "        value = inst[nodes]\n",
    "        # Add selected column to dict\n",
    "        tree = tree[nodes][value]\n",
    "        # If tree is dict recursively call functions\n",
    "        if type(tree) is dict:\n",
    "            prediction = predict(inst, tree)\n",
    "        # Else final prediction\n",
    "        else:\n",
    "            prediction = tree\n",
    "            break\n",
    "    return prediction"
   ]
  },
  {
   "cell_type": "code",
   "execution_count": 19,
   "metadata": {},
   "outputs": [
    {
     "data": {
      "text/plain": [
       "Taste          Salty\n",
       "Temperature     Cold\n",
       "Texture         Soft\n",
       "Eat               No\n",
       "Name: 6, dtype: object"
      ]
     },
     "execution_count": 19,
     "metadata": {},
     "output_type": "execute_result"
    }
   ],
   "source": [
    "# Test example\n",
    "inst = df.iloc[6]\n",
    "inst"
   ]
  },
  {
   "cell_type": "code",
   "execution_count": 20,
   "metadata": {},
   "outputs": [
    {
     "data": {
      "text/plain": [
       "'No'"
      ]
     },
     "execution_count": 20,
     "metadata": {},
     "output_type": "execute_result"
    }
   ],
   "source": [
    "# Prediction\n",
    "predict(inst, tree_gini)"
   ]
  },
  {
   "cell_type": "code",
   "execution_count": null,
   "metadata": {},
   "outputs": [],
   "source": []
  }
 ],
 "metadata": {
  "kernelspec": {
   "display_name": "Python 3",
   "language": "python",
   "name": "python3"
  },
  "language_info": {
   "codemirror_mode": {
    "name": "ipython",
    "version": 3
   },
   "file_extension": ".py",
   "mimetype": "text/x-python",
   "name": "python",
   "nbconvert_exporter": "python",
   "pygments_lexer": "ipython3",
   "version": "3.6.7"
  }
 },
 "nbformat": 4,
 "nbformat_minor": 2
}

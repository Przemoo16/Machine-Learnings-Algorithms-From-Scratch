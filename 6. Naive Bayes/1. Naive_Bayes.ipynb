{
 "cells": [
  {
   "cell_type": "markdown",
   "metadata": {},
   "source": [
    "# Naive Bayes - Manual"
   ]
  },
  {
   "cell_type": "code",
   "execution_count": 1,
   "metadata": {},
   "outputs": [],
   "source": [
    "import numpy as np\n",
    "import pandas as pd"
   ]
  },
  {
   "cell_type": "code",
   "execution_count": 2,
   "metadata": {},
   "outputs": [],
   "source": [
    "# Create dataset\n",
    "dataset = {'Outlook':['Sunny','Sunny','Overcast','Rainy','Rainy','Rainy','Overcast','Sunny','Sunny','Rainy','Sunny','Overcast','Overcast','Rainy'],\n",
    "       'Temperature':['Hot','Hot','Hot','Mild','Cool','Cool','Cool','Mild','Cool','Mild','Mild','Mild','Hot','Mild'],\n",
    "       'Humidity':['High','High','High','High','Normal','Normal','Normal','High','Normal','Normal','Normal','High','Normal','High'],\n",
    "       'Windy':['False','True','False','False','False','True','True','False','False','False','True','True','False','True'],\n",
    "       'Play golf':['No','No','Yes','Yes','Yes','No','Yes','No','Yes','Yes','Yes','Yes','Yes','No']}"
   ]
  },
  {
   "cell_type": "code",
   "execution_count": 3,
   "metadata": {},
   "outputs": [],
   "source": [
    "# Dataset do DataFrame\n",
    "df = pd.DataFrame(dataset,columns=['Outlook','Temperature','Humidity','Windy','Play golf'])"
   ]
  },
  {
   "cell_type": "code",
   "execution_count": 4,
   "metadata": {},
   "outputs": [
    {
     "data": {
      "text/html": [
       "<div>\n",
       "<style scoped>\n",
       "    .dataframe tbody tr th:only-of-type {\n",
       "        vertical-align: middle;\n",
       "    }\n",
       "\n",
       "    .dataframe tbody tr th {\n",
       "        vertical-align: top;\n",
       "    }\n",
       "\n",
       "    .dataframe thead th {\n",
       "        text-align: right;\n",
       "    }\n",
       "</style>\n",
       "<table border=\"1\" class=\"dataframe\">\n",
       "  <thead>\n",
       "    <tr style=\"text-align: right;\">\n",
       "      <th></th>\n",
       "      <th>Outlook</th>\n",
       "      <th>Temperature</th>\n",
       "      <th>Humidity</th>\n",
       "      <th>Windy</th>\n",
       "      <th>Play golf</th>\n",
       "    </tr>\n",
       "  </thead>\n",
       "  <tbody>\n",
       "    <tr>\n",
       "      <th>0</th>\n",
       "      <td>Sunny</td>\n",
       "      <td>Hot</td>\n",
       "      <td>High</td>\n",
       "      <td>False</td>\n",
       "      <td>No</td>\n",
       "    </tr>\n",
       "    <tr>\n",
       "      <th>1</th>\n",
       "      <td>Sunny</td>\n",
       "      <td>Hot</td>\n",
       "      <td>High</td>\n",
       "      <td>True</td>\n",
       "      <td>No</td>\n",
       "    </tr>\n",
       "    <tr>\n",
       "      <th>2</th>\n",
       "      <td>Overcast</td>\n",
       "      <td>Hot</td>\n",
       "      <td>High</td>\n",
       "      <td>False</td>\n",
       "      <td>Yes</td>\n",
       "    </tr>\n",
       "    <tr>\n",
       "      <th>3</th>\n",
       "      <td>Rainy</td>\n",
       "      <td>Mild</td>\n",
       "      <td>High</td>\n",
       "      <td>False</td>\n",
       "      <td>Yes</td>\n",
       "    </tr>\n",
       "    <tr>\n",
       "      <th>4</th>\n",
       "      <td>Rainy</td>\n",
       "      <td>Cool</td>\n",
       "      <td>Normal</td>\n",
       "      <td>False</td>\n",
       "      <td>Yes</td>\n",
       "    </tr>\n",
       "    <tr>\n",
       "      <th>5</th>\n",
       "      <td>Rainy</td>\n",
       "      <td>Cool</td>\n",
       "      <td>Normal</td>\n",
       "      <td>True</td>\n",
       "      <td>No</td>\n",
       "    </tr>\n",
       "    <tr>\n",
       "      <th>6</th>\n",
       "      <td>Overcast</td>\n",
       "      <td>Cool</td>\n",
       "      <td>Normal</td>\n",
       "      <td>True</td>\n",
       "      <td>Yes</td>\n",
       "    </tr>\n",
       "    <tr>\n",
       "      <th>7</th>\n",
       "      <td>Sunny</td>\n",
       "      <td>Mild</td>\n",
       "      <td>High</td>\n",
       "      <td>False</td>\n",
       "      <td>No</td>\n",
       "    </tr>\n",
       "    <tr>\n",
       "      <th>8</th>\n",
       "      <td>Sunny</td>\n",
       "      <td>Cool</td>\n",
       "      <td>Normal</td>\n",
       "      <td>False</td>\n",
       "      <td>Yes</td>\n",
       "    </tr>\n",
       "    <tr>\n",
       "      <th>9</th>\n",
       "      <td>Rainy</td>\n",
       "      <td>Mild</td>\n",
       "      <td>Normal</td>\n",
       "      <td>False</td>\n",
       "      <td>Yes</td>\n",
       "    </tr>\n",
       "    <tr>\n",
       "      <th>10</th>\n",
       "      <td>Sunny</td>\n",
       "      <td>Mild</td>\n",
       "      <td>Normal</td>\n",
       "      <td>True</td>\n",
       "      <td>Yes</td>\n",
       "    </tr>\n",
       "    <tr>\n",
       "      <th>11</th>\n",
       "      <td>Overcast</td>\n",
       "      <td>Mild</td>\n",
       "      <td>High</td>\n",
       "      <td>True</td>\n",
       "      <td>Yes</td>\n",
       "    </tr>\n",
       "    <tr>\n",
       "      <th>12</th>\n",
       "      <td>Overcast</td>\n",
       "      <td>Hot</td>\n",
       "      <td>Normal</td>\n",
       "      <td>False</td>\n",
       "      <td>Yes</td>\n",
       "    </tr>\n",
       "    <tr>\n",
       "      <th>13</th>\n",
       "      <td>Rainy</td>\n",
       "      <td>Mild</td>\n",
       "      <td>High</td>\n",
       "      <td>True</td>\n",
       "      <td>No</td>\n",
       "    </tr>\n",
       "  </tbody>\n",
       "</table>\n",
       "</div>"
      ],
      "text/plain": [
       "     Outlook Temperature Humidity  Windy Play golf\n",
       "0      Sunny         Hot     High  False        No\n",
       "1      Sunny         Hot     High   True        No\n",
       "2   Overcast         Hot     High  False       Yes\n",
       "3      Rainy        Mild     High  False       Yes\n",
       "4      Rainy        Cool   Normal  False       Yes\n",
       "5      Rainy        Cool   Normal   True        No\n",
       "6   Overcast        Cool   Normal   True       Yes\n",
       "7      Sunny        Mild     High  False        No\n",
       "8      Sunny        Cool   Normal  False       Yes\n",
       "9      Rainy        Mild   Normal  False       Yes\n",
       "10     Sunny        Mild   Normal   True       Yes\n",
       "11  Overcast        Mild     High   True       Yes\n",
       "12  Overcast         Hot   Normal  False       Yes\n",
       "13     Rainy        Mild     High   True        No"
      ]
     },
     "execution_count": 4,
     "metadata": {},
     "output_type": "execute_result"
    }
   ],
   "source": [
    "# Show dataset\n",
    "df"
   ]
  },
  {
   "cell_type": "markdown",
   "metadata": {},
   "source": [
    "### Bayes Theorem\n",
    "\n",
    "\\begin{equation*}\n",
    "\\Large\n",
    "P(A\\mid B)={\\frac {P(B\\mid A)\\,P(A)}{P(B)}}\n",
    "\\end{equation*}"
   ]
  },
  {
   "cell_type": "markdown",
   "metadata": {},
   "source": [
    "\\begin{equation*}\n",
    "\\Large\n",
    "P(c|x) = \\frac{P(x|c)*P(c)}{P(x)}\n",
    "\\end{equation*}\n",
    "\n",
    "\\begin{equation*}\n",
    "\\Large\n",
    "P(x|c) = P(x_1|c) \\times P(x_2|c) \\times ... \\times P(x_n|c) \\times P(c)\n",
    "\\end{equation*}"
   ]
  },
  {
   "cell_type": "code",
   "execution_count": 5,
   "metadata": {},
   "outputs": [],
   "source": [
    "# Number of No\n",
    "n_no = df['Play golf'][df['Play golf'] == 'No'].count()\n",
    "\n",
    "# Number of Yes\n",
    "n_yes = df['Play golf'][df['Play golf'] == 'Yes'].count()\n",
    "\n",
    "# Total rows\n",
    "total_ppl = df['Play golf'].count()"
   ]
  },
  {
   "cell_type": "code",
   "execution_count": 6,
   "metadata": {},
   "outputs": [],
   "source": [
    "# Number of No divided by the total rows\n",
    "P_no = n_no/total_ppl\n",
    "\n",
    "# Number of Yes divided by the total rows\n",
    "P_yes = n_yes/total_ppl"
   ]
  },
  {
   "cell_type": "code",
   "execution_count": 7,
   "metadata": {},
   "outputs": [
    {
     "data": {
      "text/html": [
       "<div>\n",
       "<style scoped>\n",
       "    .dataframe tbody tr th:only-of-type {\n",
       "        vertical-align: middle;\n",
       "    }\n",
       "\n",
       "    .dataframe tbody tr th {\n",
       "        vertical-align: top;\n",
       "    }\n",
       "\n",
       "    .dataframe thead th {\n",
       "        text-align: right;\n",
       "    }\n",
       "</style>\n",
       "<table border=\"1\" class=\"dataframe\">\n",
       "  <thead>\n",
       "    <tr style=\"text-align: right;\">\n",
       "      <th></th>\n",
       "      <th>Outlook</th>\n",
       "      <th>Temperture</th>\n",
       "      <th>Humidity</th>\n",
       "      <th>Windy</th>\n",
       "    </tr>\n",
       "  </thead>\n",
       "  <tbody>\n",
       "    <tr>\n",
       "      <th>0</th>\n",
       "      <td>Sunny</td>\n",
       "      <td>Cool</td>\n",
       "      <td>High</td>\n",
       "      <td>True</td>\n",
       "    </tr>\n",
       "  </tbody>\n",
       "</table>\n",
       "</div>"
      ],
      "text/plain": [
       "  Outlook Temperture Humidity Windy\n",
       "0   Sunny       Cool     High  True"
      ]
     },
     "execution_count": 7,
     "metadata": {},
     "output_type": "execute_result"
    }
   ],
   "source": [
    "# Person to predict\n",
    "\n",
    "# Create an empty dataframe\n",
    "example_person = pd.DataFrame()\n",
    "\n",
    "# Create some feature values for this single row\n",
    "example_person['Outlook'] = ['Sunny']\n",
    "example_person['Temperture'] = ['Cool']\n",
    "example_person['Humidity'] = ['High']\n",
    "example_person['Windy'] = ['True']\n",
    "\n",
    "# View the data \n",
    "example_person"
   ]
  },
  {
   "cell_type": "code",
   "execution_count": 8,
   "metadata": {},
   "outputs": [],
   "source": [
    "# Numbers of features for No (only features that are in Person to predict)\n",
    "no_outlook = len(df[(df['Outlook']=='Sunny') & (df['Play golf'] == 'No')])\n",
    "no_temperature = len(df[(df['Temperature']=='Cool') & (df['Play golf'] == 'No')])\n",
    "no_humidity = len(df[(df['Humidity']=='High') & (df['Play golf'] == 'No')])\n",
    "no_windy = len(df[(df['Windy']=='True') & (df['Play golf'] == 'No')])"
   ]
  },
  {
   "cell_type": "code",
   "execution_count": 9,
   "metadata": {},
   "outputs": [],
   "source": [
    "# Numbers of features for Yes (only features that are in Person to predict)\n",
    "yes_outlook = len(df[(df['Outlook']=='Sunny') & (df['Play golf'] == 'Yes')])\n",
    "yes_temperature = len(df[(df['Temperature']=='Cool') & (df['Play golf'] == 'Yes')])\n",
    "yes_humidity = len(df[(df['Humidity']=='High') & (df['Play golf'] == 'Yes')])\n",
    "yes_windy = len(df[(df['Windy']=='True') & (df['Play golf'] == 'Yes')])"
   ]
  },
  {
   "cell_type": "markdown",
   "metadata": {},
   "source": [
    "### Probability that we cannot play a game\n",
    "\n",
    "\\begin{equation*}\n",
    "\\normalsize\n",
    "P(Outlook=Sunny | Play=No) = \\frac{\\text{no_outlook}}{\\text{n_no}}\n",
    "\\end{equation*}\n",
    "\n",
    "\\begin{equation*}\n",
    "\\normalsize\n",
    "P(Temperature=Cool | Play=No) = \\frac{\\text{no_temperature}}{\\text{n_no}}\n",
    "\\end{equation*}\n",
    "\n",
    "\\begin{equation*}\n",
    "\\normalsize\n",
    "P(Humidity=High | Play=No) = \\frac{\\text{no_humidity}}{\\text{n_no}}\n",
    "\\end{equation*}\n",
    "\n",
    "\\begin{equation*}\n",
    "\\normalsize\n",
    "P(Windy=True | Play=No) = \\frac{\\text{no_windy}}{\\text{n_no}}\n",
    "\\end{equation*}"
   ]
  },
  {
   "cell_type": "code",
   "execution_count": 10,
   "metadata": {},
   "outputs": [],
   "source": [
    "# Probability for No values\n",
    "p_no_outlook = no_outlook / n_no\n",
    "p_no_temperature = no_temperature / n_no\n",
    "p_no_humidity = no_humidity / n_no\n",
    "p_no_windy = no_windy / n_no"
   ]
  },
  {
   "cell_type": "markdown",
   "metadata": {},
   "source": [
    "### Probability that we can play a game\n",
    "\n",
    "\\begin{equation*}\n",
    "\\normalsize\n",
    "P(Outlook=Sunny | Play=Yes) = \\frac{\\text{yes_outlook}}{\\text{yes_no}}\n",
    "\\end{equation*}\n",
    "\n",
    "\\begin{equation*}\n",
    "\\normalsize\n",
    "P(Temperature=Cool | Play=Yes) = \\frac{\\text{yes_temperature}}{\\text{yes_no}}\n",
    "\\end{equation*}\n",
    "\n",
    "\\begin{equation*}\n",
    "\\normalsize\n",
    "P(Humidity=High | Play=Yes) = \\frac{\\text{yes_humidity}}{\\text{yes_no}}\n",
    "\\end{equation*}\n",
    "\n",
    "\\begin{equation*}\n",
    "\\normalsize\n",
    "P(Windy=True | Play=Yes) = \\frac{\\text{yes_windy}}{\\text{yes_no}}\n",
    "\\end{equation*}"
   ]
  },
  {
   "cell_type": "code",
   "execution_count": 11,
   "metadata": {},
   "outputs": [],
   "source": [
    "# Probability for Yes values\n",
    "p_yes_outlook = yes_outlook / n_yes\n",
    "p_yes_temperature = yes_temperature / n_yes\n",
    "p_yes_humidity = yes_humidity / n_yes\n",
    "p_yes_windy = yes_windy / n_yes"
   ]
  },
  {
   "cell_type": "markdown",
   "metadata": {},
   "source": [
    "### Numerator of the posterior\n",
    "\n",
    "\\begin{equation*}\n",
    "\\small\n",
    "{\\text{P(X | Play=No)* P(Play=No)}}={P({\\text{No}})\\,p({\\text{outlook}}\\mid{\\text{No}})\\,p({\\text{temperature}}\\mid{\\text{No}})\\,p({\\text{humidity}}\\mid{\\text{No}})\\,p({\\text{windy}}\\mid{\\text{No}})}{}\n",
    "\\end{equation*}\n",
    "\n",
    "\\begin{equation*}\n",
    "\\small\n",
    "{\\text{P(X | Play=Yes)* P(Play=Yes)}}={P({\\text{Yes}})\\,p({\\text{outlook}}\\mid{\\text{Yes}})\\,p({\\text{temperature}}\\mid{\\text{Yes}})\\,p({\\text{humidity}}\\mid{\\text{Yes}})\\,p({\\text{windy}}\\mid{\\text{Yes}})}{}\n",
    "\\end{equation*}"
   ]
  },
  {
   "cell_type": "code",
   "execution_count": 12,
   "metadata": {},
   "outputs": [
    {
     "data": {
      "text/plain": [
       "0.02057142857142857"
      ]
     },
     "execution_count": 12,
     "metadata": {},
     "output_type": "execute_result"
    }
   ],
   "source": [
    "# Final probability for No\n",
    "final_no = p_no_outlook * p_no_temperature * p_no_humidity * p_no_windy * P_no\n",
    "final_no"
   ]
  },
  {
   "cell_type": "code",
   "execution_count": 13,
   "metadata": {},
   "outputs": [
    {
     "data": {
      "text/plain": [
       "0.005291005291005291"
      ]
     },
     "execution_count": 13,
     "metadata": {},
     "output_type": "execute_result"
    }
   ],
   "source": [
    "# Final probability for Yes\n",
    "final_yes = p_yes_outlook * p_yes_temperature * p_yes_humidity * p_yes_windy * P_yes\n",
    "final_yes"
   ]
  },
  {
   "cell_type": "markdown",
   "metadata": {},
   "source": [
    "### P(X) to normalize results\n",
    "\n",
    "\\begin{equation*}\n",
    "\\normalsize\n",
    "P(X) = \\text{P(Outlook=Sunny)} * \\text{P(Temperature=Cool)} * \\text{P(Humidity=High)} * \\text{P(Windy=True)}\n",
    "\\end{equation*}"
   ]
  },
  {
   "cell_type": "code",
   "execution_count": 14,
   "metadata": {},
   "outputs": [],
   "source": [
    "# Value to normalize the results\n",
    "normalizer = \\\n",
    "(no_outlook + yes_outlook) / total_ppl * \\\n",
    "(no_temperature + yes_temperature) / total_ppl * \\\n",
    "(no_humidity + yes_humidity) / total_ppl * \\\n",
    "(no_windy + yes_windy) / total_ppl"
   ]
  },
  {
   "cell_type": "markdown",
   "metadata": {},
   "source": [
    "### Normalized results for No class\n",
    "\\begin{equation*}\n",
    "\\normalsize\n",
    "P(Play=No | X)  = \\frac{P(X | Play=No)}{P(X)}\n",
    "\\end{equation*}"
   ]
  },
  {
   "cell_type": "code",
   "execution_count": 15,
   "metadata": {},
   "outputs": [
    {
     "data": {
      "text/plain": [
       "0.9408"
      ]
     },
     "execution_count": 15,
     "metadata": {},
     "output_type": "execute_result"
    }
   ],
   "source": [
    "# Normalize No result\n",
    "normalized_no = final_no / normalizer\n",
    "normalized_no"
   ]
  },
  {
   "cell_type": "markdown",
   "metadata": {},
   "source": [
    "### Normalized results for Yes class"
   ]
  },
  {
   "cell_type": "markdown",
   "metadata": {},
   "source": [
    "\\begin{equation*}\n",
    "\\normalsize\n",
    "P(Play=Yes | X)  = \\frac{P(X | Play=Yes)}{P(X)}\n",
    "\\end{equation*}"
   ]
  },
  {
   "cell_type": "code",
   "execution_count": 16,
   "metadata": {},
   "outputs": [
    {
     "data": {
      "text/plain": [
       "0.2419753086419753"
      ]
     },
     "execution_count": 16,
     "metadata": {},
     "output_type": "execute_result"
    }
   ],
   "source": [
    "# Normalize Yes result\n",
    "normalized_yes = final_yes / normalizer\n",
    "normalized_yes"
   ]
  },
  {
   "cell_type": "markdown",
   "metadata": {},
   "source": [
    "### 0.948 > 0.24 So predicted class = No"
   ]
  },
  {
   "cell_type": "markdown",
   "metadata": {},
   "source": [
    "# Naive Bayes - Sklearn"
   ]
  },
  {
   "cell_type": "code",
   "execution_count": 17,
   "metadata": {},
   "outputs": [],
   "source": [
    "from sklearn.naive_bayes import MultinomialNB, GaussianNB, BernoulliNB\n",
    "from sklearn.preprocessing  import OneHotEncoder"
   ]
  },
  {
   "cell_type": "code",
   "execution_count": 18,
   "metadata": {},
   "outputs": [],
   "source": [
    "# Create One Hot Encoder model\n",
    "one_hot = OneHotEncoder()\n",
    "# Categorical values to one hot encode for dataset\n",
    "df_dummy = one_hot.fit_transform(df.drop(['Play golf'], axis=1))\n",
    "# Categorical values to one hot encode for example Person\n",
    "person_dummy = one_hot.transform(example_person)"
   ]
  },
  {
   "cell_type": "code",
   "execution_count": 19,
   "metadata": {},
   "outputs": [
    {
     "data": {
      "text/plain": [
       "GaussianNB(priors=None, var_smoothing=1e-09)"
      ]
     },
     "execution_count": 19,
     "metadata": {},
     "output_type": "execute_result"
    }
   ],
   "source": [
    "# Create Gaussian Naive Bayes model\n",
    "bayes = GaussianNB()\n",
    "# Train model\n",
    "bayes.fit(df_dummy.toarray(), df['Play golf'])"
   ]
  },
  {
   "cell_type": "code",
   "execution_count": 20,
   "metadata": {},
   "outputs": [
    {
     "data": {
      "text/plain": [
       "array(['No'], dtype='<U3')"
      ]
     },
     "execution_count": 20,
     "metadata": {},
     "output_type": "execute_result"
    }
   ],
   "source": [
    "# Predict\n",
    "bayes.predict(person_dummy.toarray())"
   ]
  },
  {
   "cell_type": "code",
   "execution_count": null,
   "metadata": {},
   "outputs": [],
   "source": []
  }
 ],
 "metadata": {
  "kernelspec": {
   "display_name": "Python 3",
   "language": "python",
   "name": "python3"
  },
  "language_info": {
   "codemirror_mode": {
    "name": "ipython",
    "version": 3
   },
   "file_extension": ".py",
   "mimetype": "text/x-python",
   "name": "python",
   "nbconvert_exporter": "python",
   "pygments_lexer": "ipython3",
   "version": "3.6.7"
  }
 },
 "nbformat": 4,
 "nbformat_minor": 2
}
